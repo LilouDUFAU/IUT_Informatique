{
 "cells": [
  {
   "cell_type": "markdown",
   "id": "bdd0ea13-d018-439c-956d-f631ffeef0a7",
   "metadata": {},
   "source": [
    "# **TP RSA**"
   ]
  },
  {
   "cell_type": "markdown",
   "id": "efacbc53-4a26-4878-a84d-a58c3d9ac6fd",
   "metadata": {
    "jp-MarkdownHeadingCollapsed": true
   },
   "source": [
    "#### **Présentation**\n",
    "Un cryptogramme **crypto4** vous a été envoyé. Pour avoir plus d'informations sur le chiffrement utilisé, je souhaiterais que nos échanges soient un peu plus sécurisés, et pour cela, nous allons donc mettre en place des **systèmes RSA**.  \n",
    "Ma **clé publique** vous a été envoyée par mail et vous devez pour commencer générer la vôtre.  \n",
    "Les parties 1, 2 et 3 de ce notebook présentent les problèmes de complexité liés à la génération de nombres premiers, ce qui nous conduit finalement à utiliser des **tests de primalité probabilistes** pour la génération des clés.  \n",
    "Une fois votre clé RSA générée, vous me l'envoyez (sans signature dans un premier temps) et je vous renverrai un message signé avec la clé de chiffrement de **crypto4**, que vous n'aurez plus qu'à déchiffrer.  \n",
    "**Remarque** : pour l'exposant, nous choisirons $e=2^16+1$"
   ]
  },
  {
   "cell_type": "markdown",
   "id": "101bcd9d-3ca2-4109-a347-39f7a322d736",
   "metadata": {},
   "source": [
    "# **1. Primalité : fonction premier(n)**"
   ]
  },
  {
   "attachments": {},
   "cell_type": "markdown",
   "id": "74231a59-c1b0-4b4c-a142-acd0fbb34982",
   "metadata": {},
   "source": [
    "La fonction Python **premier(n)**, vue en première année, prend en entrée un entier naturel **n** et retourne un **booléen** : **True** si l’entier **n** est premier et **False** s’il ne l’est pas."
   ]
  },
  {
   "cell_type": "code",
   "execution_count": 1,
   "id": "73217481-cdcc-46de-ad5d-3e009b27bc6a",
   "metadata": {},
   "outputs": [],
   "source": [
    "def premier(n):\n",
    "    prem = True\n",
    "    if n<=1 : \n",
    "        prem = False\n",
    "    else : \n",
    "        # Parcourir tous les entiers de 2 jusqu'à la racine carrée de n\n",
    "        for i in range(2, int(n**0.5) + 1) :\n",
    "            # Vérifier si i divise n\n",
    "            if n % i == 0 :\n",
    "                prem = False\n",
    "    return prem"
   ]
  },
  {
   "cell_type": "markdown",
   "id": "cd0209b9-197b-449c-84fc-235a067e7269",
   "metadata": {},
   "source": [
    "On teste :"
   ]
  },
  {
   "cell_type": "code",
   "execution_count": 2,
   "id": "6c7049b0-c362-4d92-bd6f-f57541166154",
   "metadata": {},
   "outputs": [
    {
     "data": {
      "text/plain": [
       "False"
      ]
     },
     "execution_count": 2,
     "metadata": {},
     "output_type": "execute_result"
    }
   ],
   "source": [
    "premier(34)"
   ]
  },
  {
   "cell_type": "code",
   "execution_count": 3,
   "id": "7b62593b-df80-48ba-a1ca-d7b31403be9e",
   "metadata": {},
   "outputs": [
    {
     "data": {
      "text/plain": [
       "True"
      ]
     },
     "execution_count": 3,
     "metadata": {},
     "output_type": "execute_result"
    }
   ],
   "source": [
    "premier(37)"
   ]
  },
  {
   "cell_type": "markdown",
   "id": "8ff282ff-06c8-4b8b-aee7-5994909f8060",
   "metadata": {},
   "source": [
    "# **2. Complexité premier(n)**\n",
    "Nous avons également vu en première année la notion de **complexité en temps** d'un algorithme, qui est liée au nombre d'étapes et aux opérations nécessaires pour arriver au résultat. Le cas de la complexité en **grand O**, sur lequel nous nous étions penchés dans la ressource de **Méthodes numériques** en S2, est le plus \"grossier\". Le calcul de la complexité en **grand O** s'intéresse principalement au nombre d'étapes générées par les boucles et en général dans le **pire des cas**, ce qui signifie par exemple que dans une instruction conditionnelle (**if**), la condition est supposée toujours vraie. **Peu importe le nombre d'opérations à chaque étape** : qu'il y ait 5 ou 1000 opérations, la complexité en **grand O** est la même. \n",
    "\n",
    "Les calculs de complexité peuvent se faire \"à la main\", en analysant l'algorithme, ce qui nécessite parfois de mettre en œuvre des outils mathématiques plus ou moins avancés. \n",
    "\n",
    "Concernant l'algorithme de **premier(n)**, la boucle **```for i in range(2, int(n\\*\\*0.5) + 1) :```** comprend $\\sqrt n$ étapes et nous avons une complexité en $O( \\sqrt n)$\n",
    "\n",
    "La détermination de la complexité n'est pas toujours aussi simple et on peut aussi utiliser la machine pour visualiser l'évolution de celle-ci : \n",
    "* Soit en **chronométrant** l'exécution du programme.\n",
    "* Soit en utilisant des **compteurs** dans les boucles.\n",
    "\n",
    "On représente graphiquement l'évolution de cette complexité en fonction de la taille de l'entrée. Il faut donc pour cela savoir **tracer des courbes** en Python.\n"
   ]
  },
  {
   "cell_type": "markdown",
   "id": "9c0c7cff-ed81-4a7c-84c3-c53be11b5efd",
   "metadata": {},
   "source": [
    "## **2.1. Préalable : représenter des courbes !**\n",
    "Pour mettre en évidence l'évolution de la complexité, il faut savoir tracer des courbes. Ci-dessous, un exemple de tracé permettant de représenter graphiquement la fonction $f(x)=\\sqrt x=x^{0,5}$ sur $[0,100]$. \n",
    "\n",
    "On utilise la fonction **plot** de la collection **pyplot** de la bibliothèque **matplotlib**.\n",
    "L'instruction **plot(x,y)** prend en entrée deux listes **x** et **y** et trace, en les reliant, les points de coordonnées **(x[i],y[i])**\n",
    "### Notations\n",
    "* Les listes **x** et **y** doivent avoir une même longueur, que l'on notera **nbPts**\n",
    "* **lenInt** est la longueur de l'intervalle (lenInt = 100 pour une représentation sur $[0,100]$\n",
    "* **delta** est l'écart entre chaque point dans la liste **x**, il se déduit de **nbPts** et **lenInt**"
   ]
  },
  {
   "cell_type": "code",
   "execution_count": 4,
   "id": "f6302054-82fc-4ea1-8f22-5023174276a4",
   "metadata": {},
   "outputs": [
    {
     "data": {
      "image/png": "[encoded data removed]",
      "text/plain": [
       "<Figure size 640x480 with 1 Axes>"
      ]
     },
     "metadata": {},
     "output_type": "display_data"
    }
   ],
   "source": [
    "lenInt = 100\n",
    "nbPts = 1000\n",
    "delta = round(100/nbPts,1) # delta représente l'écart entre chaques points dans [0,100]. Par exemple 0.1\n",
    "\n",
    "# Préparation des abscisses, par exemple 1000 valeurs entre 0 et 100 : 0, 0.1, 0.2, 0.3,..., 99.9\n",
    "x = [ delta*i for i in range (1000)]\n",
    "# Préparation des ordonnées : on calcule les images des valeurs précédentes par la fonction racine (x puissance 0,5)\n",
    "y = [ val_x**0.5 for val_x in x]\n",
    "\n",
    "# Représentation avec pyplot de matplotlib\n",
    "import matplotlib.pyplot as plt\n",
    "plt.plot(x,y)\n",
    "plt.show() # affiche la figure à l'écran (inutile en mode interactif)\n"
   ]
  },
  {
   "cell_type": "markdown",
   "id": "eaebb5d3-9078-4d44-94dc-69b84142ac1c",
   "metadata": {},
   "source": [
    "## **2.2. Chronométrer avec un \"timer\"**\n",
    "**timeit** est une bibliothèque qui permet de chronométrer l'exécution de morceaux de programmes. \n",
    "L'inconvénient de cette mesure du temps réel est que l'exécution de l'algorithme peut être perturbée par des éléments indépendants du programme (processeur, charge...)\n",
    "\n",
    "### **Exemple**\n",
    "Nous testons la durée d'exécution de la fonction **premier(n)** pour diverses valeurs de **n**. À la différence de l'exemple précédent, les valeurs de **x** devront être entières : \n",
    "* **nbMax** : valeur maximale de **n**\n",
    "* **nbPts** : nombre de valeurs testées\n",
    "* **delta** : écart entre chaque valeur testée points dans $[1,nbMax]$"
   ]
  },
  {
   "cell_type": "code",
   "execution_count": 5,
   "id": "5a7a691c-5b1e-4a55-a462-ecc6105950ce",
   "metadata": {},
   "outputs": [
    {
     "data": {
      "text/plain": [
       "[<matplotlib.lines.Line2D at 0x25b77f63c80>]"
      ]
     },
     "execution_count": 5,
     "metadata": {},
     "output_type": "execute_result"
    },
    {
     "data": {
      "image/png": "[encoded data removed]",
      "text/plain": [
       "<Figure size 640x480 with 1 Axes>"
      ]
     },
     "metadata": {},
     "output_type": "display_data"
    }
   ],
   "source": [
    "import timeit\n",
    "nbMax = 50000\n",
    "nbPts = 1000              # Nombre de valeurs testées\n",
    "delta = int(nbMax/nbPts)  # Les valeurs de x doivent être entières\n",
    "\n",
    "# Pour l'axe des x : nbPts valeurs de n, de 0 à 50000, avec un pas de 50 : 50, 100, ..., 49950, 50000\n",
    "x = [ delta * i for i in range(1, nbPts+1)]\n",
    "y_temps = [0] * nbPts\n",
    "\n",
    "for i in range(nbPts) : \n",
    "    tps1 = timeit.default_timer()  # tps1 : début\n",
    "    premier(x[i])\n",
    "    tps2 = timeit.default_timer()  # tps2 : fin\n",
    "    y_temps[i] = tps2 - tps1       # y_temps[i] : durée d'exécution de premier(x[i])\n",
    "\n",
    "# Représentation graphique\n",
    "import matplotlib.pyplot as plt\n",
    "plt.plot(x,y_temps)"
   ]
  },
  {
   "cell_type": "markdown",
   "id": "183d4674-6019-46ea-b728-dc021c98e378",
   "metadata": {},
   "source": [
    "#### **Commentaire** : peu convaincant !"
   ]
  },
  {
   "cell_type": "markdown",
   "id": "b29157e7-fd8e-4661-bc5f-4c1eb39859ad",
   "metadata": {},
   "source": [
    "## **2.3. Introduction d'un compteur dans les boucles**\n",
    "Dans l'exemple ci-dessous, on introduit un compteur qui s'incrémente à chaque nouvelle itération dans la boucle **for**. La liste **y_compteur** contient le nombre d'itérations dans la boucle **for** pour chaque valeur de **x[i]**\n"
   ]
  },
  {
   "cell_type": "code",
   "execution_count": 6,
   "id": "38c40f1b-1ee7-446f-b6ff-6d8155eff93b",
   "metadata": {},
   "outputs": [
    {
     "data": {
      "text/plain": [
       "[<matplotlib.lines.Line2D at 0x25b75e02600>]"
      ]
     },
     "execution_count": 6,
     "metadata": {},
     "output_type": "execute_result"
    },
    {
     "data": {
      "image/png": "[encoded data removed]",
      "text/plain": [
       "<Figure size 640x480 with 1 Axes>"
      ]
     },
     "metadata": {},
     "output_type": "display_data"
    }
   ],
   "source": [
    "nbMax = 50000\n",
    "nbPts = 1000              # Nombre de valeurs testées\n",
    "delta = int(nbMax/nbPts)  # Les valeurs de x doivent être entières\n",
    "\n",
    "# Pour l'axe des x : nbPts valeurs de n, de 0 à 50000, avec un pas de 50 : 50, 100, ..., 49950, 50000\n",
    "x = [ delta * i for i in range(1, nbPts+1)]\n",
    "y_compteur = [0] * nbPts\n",
    "\n",
    "# Création d'une fonction renvoyant le nombre d'étape de la boucle de la fonction premier, selon n\n",
    "def compteurPremier(n):\n",
    "    prem = True\n",
    "    compt = 0\n",
    "    if n<=1 : \n",
    "        prem = False\n",
    "    else : \n",
    "        # Parcourir tous les entiers de 2 jusqu'à la racine carrée de n\n",
    "        for i in range(2, int(n**0.5) + 1) :\n",
    "            # Nouvelle étape dans la boucle : incrémentation du compteur\n",
    "            compt += 1\n",
    "            # Vérifier si i divise n\n",
    "            if n % i == 0 :\n",
    "                prem = False\n",
    "    return compt\n",
    "\n",
    "# valeurs y_compteur\n",
    "for i in range(nbPts) : \n",
    "    y_compteur[i] = compteurPremier(x[i])\n",
    "\n",
    "# Représentation graphique\n",
    "import matplotlib.pyplot as plt\n",
    "plt.plot(x,y_compteur)"
   ]
  },
  {
   "cell_type": "markdown",
   "id": "2bb86cc6-c83e-4059-945b-d16b1890917b",
   "metadata": {},
   "source": [
    "### Remarque (facultatif): continuité de la courbe ci-dessus\n",
    "Exécuter le programme précédent en changeant les paramètres **nbMax** et **nbPts** de sorte que les valeurs de x correspondent tout simplement aux 500 premiers entiers non nuls.\n",
    "* **nbMax = 500**\n",
    "* **nbPts = 500**\n",
    "\n",
    "**Que remarque-t-on ?**\n",
    "* Que peut-on dire de la continuité de la fonction représentée ?\n",
    "* Pouvez-vous l'expliquer ?\n",
    "\n",
    "Lorsque 𝑥 correspond aux entiers naturels successifs, la fonction représentée est discrète et non continue. Cela reflète la nature même du problème, car on manipule des propriétés spécifiques aux nombres entiers."
   ]
  },
  {
   "cell_type": "markdown",
   "id": "a08a59ae-6b28-48f9-9abf-3156ab421358",
   "metadata": {},
   "source": [
    "## **2.4. Complexité de premier(n) en fonction du nombre de bits utilisés stocker n**\n",
    "En Python, la fonction **n.bit_length()** renvoie le nombre de bits nécessaires pour représenter le nombre entier **n** en binaire. \n",
    "\n",
    "Plus précisément, pour un entier **$n > 0$**, **n.bit_length()** correspond à l'unique entier positif $p$ tel que : $2^{p-1} \\le n < 2^p$.\n",
    "\n",
    "Ce qui revient à : $p = \\lfloor \\log _2 (n) \\rfloor + 1$  \n",
    "On a donc **```int(np.log2(n)) + 1 == n.bit_length()```**\n",
    "\n",
    "*La encore la formule a été vue dans la ressource de Méthodes numériques en S2*\n",
    "\n",
    "Nous allons maintenant représenter graphiquement l'évolution de la complexité de **premier(n)**, évaluée avec le compteur d'itérations, en fonction non plus de n, mais du nombre de bits utilisés pour stocker **n**"
   ]
  },
  {
   "cell_type": "code",
   "execution_count": 7,
   "id": "19539f0e-b95e-4c59-b9d7-71c06a5ee6ed",
   "metadata": {},
   "outputs": [
    {
     "data": {
      "text/plain": [
       "[<matplotlib.lines.Line2D at 0x25b75dafdd0>]"
      ]
     },
     "execution_count": 7,
     "metadata": {},
     "output_type": "execute_result"
    },
    {
     "data": {
      "image/png": "[encoded data removed]",
      "text/plain": [
       "<Figure size 640x480 with 1 Axes>"
      ]
     },
     "metadata": {},
     "output_type": "display_data"
    }
   ],
   "source": [
    "nbMax = 50000\n",
    "nbPts = 1000              # Nombre de valeurs testées\n",
    "delta = int(nbMax/nbPts)  # Les valeurs de x doivent être entières\n",
    "\n",
    "x = [delta * i for i in range(1, nbPts+1)] # x contient nbPts entiers \n",
    "b = [int.bit_length(n) for n in x]         # b contient les nombres de bits nécessaires au stockage des entiers de x\n",
    "y_compteur = [0] * nbPts\n",
    "\n",
    "# valeurs y_compteur : on utilise la fonction compteurPremier(n) précédente\n",
    "# la liste y_compteur est la même que précédemment\n",
    "for i in range(nbPts) : \n",
    "    y_compteur[i] = compteurPremier(x[i])\n",
    "\n",
    "# Représentation graphique : y_compteur en fonction du nombre de bits (valeurs de b) et non plus de n (valeurs de x)\n",
    "import matplotlib.pyplot as plt\n",
    "plt.plot(b,y_compteur)"
   ]
  },
  {
   "cell_type": "markdown",
   "id": "c6051c70-0fde-49ff-9a2f-e7e4ae5f4aba",
   "metadata": {},
   "source": [
    "### Avec d'autres paramètres ?\n",
    "*On pourra tester d'autres valeurs de **nbMax** pour percevoir le ralentissement de l'algorithme.*\n",
    "\n",
    "### Bilan important\n",
    "Le résultat ci-dessus était prévisible. L'algorithme de primalité que nous avons utilisé dans la fonction **premier(n)** a une complexité en $n$ de $\\sqrt n$ mais si on note $p$ le nombre de bits utilisés pour coder $n$ : $2^{p-1} \\le  {n} < 2^p$  (car $\\sqrt {n} = n^\\frac {1}{2})$  \n",
    "Nous avons donc aussi : $2^ \\frac {p-1}{2} \\le \\sqrt n < 2^ \\frac {p}{2}$   \n",
    "Si on note $p$ le nombre de bits utilisés pour coder $n$ la complexité $2^{\\frac p 2}$ est exponentielle. "
   ]
  },
  {
   "attachments": {},
   "cell_type": "markdown",
   "id": "a9ba2c0c-490f-4a13-a461-9e48d0752d13",
   "metadata": {},
   "source": [
    "# **3. Générer des nombres premiers pour le RSA**\n",
    "## **3.1. Choix au hasard d'un nombre écrit sur p bits**\n",
    "Dans la librairie random, la fonction random.randint(borneInf, borneSup) permet de choisir un entier $n$ au hasard :  $\\text {borneInf} \\le n \\le \\text{borneSup}$  \n",
    "Les entiers écrits sur $p$ bits sont les entiers $n$ compris entre $2^{p-1} \\le  {n} < 2^p$.  \n",
    "Le programme suivant permet de choisir au hasard un nombre entier écrit sur $p$ bits."
   ]
  },
  {
   "cell_type": "code",
   "execution_count": 8,
   "id": "d6a37769-d353-4266-8c71-e95907633018",
   "metadata": {},
   "outputs": [
    {
     "data": {
      "text/plain": [
       "138"
      ]
     },
     "execution_count": 8,
     "metadata": {},
     "output_type": "execute_result"
    }
   ],
   "source": [
    "import random\n",
    "p = 8\n",
    "borneInf = 2**(p - 1)  \n",
    "borneSup = 2**p - 1\n",
    "nombre = random.randint(borneInf, borneSup)\n",
    "nombre"
   ]
  },
  {
   "cell_type": "markdown",
   "id": "f3ced7ba-ac1e-40b3-b671-87f31cf43f6e",
   "metadata": {},
   "source": [
    "## **3.2. Choix au hasard d'un nombre premier écrit sur $p$ bits**\n",
    "Écrire un programme permettant de générer un nombre premier aléatoire de $p$ bits. On pourra utiliser la fonction **premier(n)**.  \n",
    "\n",
    "**Remarque :** Si $\\pi (n)$ désigne le nombre de nombres premiers inférieurs ou égaux à $n$, alors $ \\pi(n) \\cong \\frac{n}{\\ln(n)}$ quand $n$ est grand. Ce qui signifie que pour un nombre inférieur à $n$ tiré au hasard, la probabilité qu'il soit premier est d'environ $\\frac {1} {\\ln(n)}$, ce qui signifie qu'il faut en moyenne choisir $\\ln(n) $ nombres  premiers inférieurs à $n$ pour en trouver un premier. \n",
    "Pour obtenir un nombre entier écrit sur $p$ bits, nous en testerons en moyenne $\\ln(2^p)$, qui est en $O(p)$."
   ]
  },
  {
   "cell_type": "code",
   "execution_count": 9,
   "id": "949c633b-44ac-410d-bb51-8f32874f8f43",
   "metadata": {},
   "outputs": [
    {
     "name": "stdout",
     "output_type": "stream",
     "text": [
      "241\n"
     ]
    }
   ],
   "source": [
    "nombre =1\n",
    "while not premier(nombre) : \n",
    "    nombre = random.randint(borneInf, borneSup)\n",
    "print(nombre)"
   ]
  },
  {
   "cell_type": "markdown",
   "id": "b50f7d5d-be15-4430-816a-8fb57eefc8b7",
   "metadata": {},
   "source": [
    "**Génération de nombres premiers selon le nombre bits**\n",
    "Durée de traitement ?"
   ]
  },
  {
   "cell_type": "code",
   "execution_count": 10,
   "id": "bbc33a5a-210b-474b-939f-58e56754ad2e",
   "metadata": {},
   "outputs": [
    {
     "name": "stdout",
     "output_type": "stream",
     "text": [
      "3 4 1.2599979527294636e-05\n",
      "4 8 6.00004568696022e-06\n",
      "5 16 5.399924702942371e-06\n",
      "6 62 3.899913281202316e-06\n",
      "7 85 9.199953638017178e-06\n",
      "8 196 2.500019036233425e-06\n",
      "9 435 1.2800097465515137e-05\n",
      "10 701 3.7499936297535896e-05\n",
      "11 1908 8.599949069321156e-06\n",
      "12 2425 1.0200077667832375e-05\n",
      "13 4588 4.069996066391468e-05\n",
      "14 14593 5.4299947805702686e-05\n",
      "15 32618 4.2100087739527225e-05\n",
      "16 48892 0.0002180000301450491\n",
      "17 72628 0.0005059000104665756\n",
      "18 242107 0.00026350002735853195\n",
      "19 415277 0.00015320000238716602\n",
      "20 962102 0.0009738000808283687\n",
      "21 1884190 0.0006661999505013227\n",
      "22 2362928 0.004076300072483718\n",
      "23 4387861 0.00022479996550828218\n",
      "24 12843221 0.007092400104738772\n",
      "25 24623331 0.0005159999709576368\n",
      "26 57299363 0.012754500028677285\n",
      "27 132257343 0.02757709997240454\n",
      "28 227105001 0.01697469991631806\n",
      "29 450310895 0.0077454999554902315\n",
      "30 611150373 0.0037002000026404858\n",
      "31 1522253270 0.03956039994955063\n",
      "32 3464958100 0.04924820002634078\n",
      "33 6664206905 0.1697538000298664\n",
      "34 11308650737 0.5645904999691993\n",
      "35 19951458645 0.1969766999827698\n",
      "36 52393162039 0.025298899970948696\n",
      "37 123030038705 0.7095447999890894\n",
      "38 261851896224 2.5478175999596715\n",
      "39 426668604577 0.8901196999941021\n",
      "40 866726119673 0.16330849996302277\n",
      "41 1896808273092 2.805637800018303\n",
      "42 4027871106943 3.0427897999761626\n",
      "43 8012999278795 8.134324899991043\n",
      "44 10990303612671 1.2272834000177681\n"
     ]
    },
    {
     "data": {
      "text/plain": [
       "[<matplotlib.lines.Line2D at 0x25b77f63590>]"
      ]
     },
     "execution_count": 10,
     "metadata": {},
     "output_type": "execute_result"
    },
    {
     "data": {
      "image/png": "[encoded data removed]",
      "text/plain": [
       "<Figure size 640x480 with 1 Axes>"
      ]
     },
     "metadata": {},
     "output_type": "display_data"
    }
   ],
   "source": [
    "import timeit\n",
    "import random\n",
    "\n",
    "nbMax = 45\n",
    "b = [i for i in range(3, nbMax)]   # liste de nombre de bits\n",
    "\n",
    "y_temps = []\n",
    "nombrePrem = []\n",
    "for p in b : \n",
    "    borneInf = 2**(p - 1)  \n",
    "    borneSup = 2**p - 1    \n",
    "    tps1 = timeit.default_timer()  # tps1 : début\n",
    "    nb = random.randint(borneInf, borneSup) # on génère un nombre compris entre 2^(p-1) et 2^p\n",
    "                                            # c'est à dire écrit sur p bits, jusqu'à en trouver un premier\n",
    "    while not premier(random.randint(borneInf, borneSup)):\n",
    "        nb = random.randint(borneInf, borneSup)\n",
    "    tps2 = timeit.default_timer()  # tps2 : fin\n",
    "    y_temps.append(tps2 - tps1)  \n",
    "    print(p,nb,tps2-tps1)\n",
    "\n",
    "import matplotlib.pyplot as plt\n",
    "plt.plot(b,y_temps)"
   ]
  },
  {
   "cell_type": "markdown",
   "id": "d8b6087b-38c0-4d30-945c-b6fbd53eb051",
   "metadata": {},
   "source": [
    "## Bilan\n",
    "Plusieurs secondes pour générer un nombre premier écrit sur une quarantaine de bits, et nous souhaitons générer une clé RSA de 2024 bits.  \n",
    "**Question : quel doit être le nombre de bits minimum nécessaire au codage des entiers premiers $p$ et $q$ générant une clé RSA de 2024 bits ?** \n",
    "1012 bits chacun\n",
    "\n",
    "À la lumière de la réponse à cette question, la méthode précédente semble inutilisable pour générer un grand nombre premier. Nous allons utiliser une autre approche, probabiliste cette fois-ci, c'est-à-dire que nous allons générer des nombres dont la **probabilité** d'être premier est très grande : des nombres **pseudo-premiers**\n"
   ]
  },
  {
   "cell_type": "markdown",
   "id": "6387cd29-6dca-4cd2-9ddd-6a5a392eda81",
   "metadata": {},
   "source": [
    "## **3.3. Test de primalité de Fermat**\n",
    "le test de primalité de Fermat est un test **probabiliste** basé sur le **petit théorème de Fermat** : s'il détecte qu'un nombre n'est pas premier (composé), il ne se trompe pas, en revanche, il peut se tromper s'il prétend que le nombre est premier.  \n",
    "**Rappel du théorème** : si $p$ est un nombre premier alors pour tout entier $a$, $p$ divise $a^{p}- a$ ce qui signifie aussi que $a^{p} ≡ a[p]$. Si de plus $a$ est premier avec $p$ (et donc inversible), par exemple si $1 \\le a \\le p-1$, alors $a^{p-1} ≡ 1[p]$   \n",
    "Le **test de primalité de Fermat** repose sur l'idée suivante  : si $p$ est composé, alors il est peu probable que $a^{p–1}$ soit congru à $1$ modulo $p$ pour une valeur de $a$ choisie au hasard entre $2$ et $p-1$"
   ]
  },
  {
   "cell_type": "code",
   "execution_count": 11,
   "id": "9beedb07-df3f-4c33-8d9b-57265a491f70",
   "metadata": {},
   "outputs": [],
   "source": [
    "def testFermat(n, k):\n",
    "    if n <= 1:\n",
    "        return False\n",
    "    if n == 2:\n",
    "        return True\n",
    "    if n % 2 == 0:\n",
    "        return False\n",
    "    for i in range(k):                  # k : nombre de répétitions du test\n",
    "        a = random.randint(2, n - 2)    # Choisir un nombre a au hasard entre 2 et n-2\n",
    "        if pow(a, n - 1, n) != 1:\n",
    "            return False  # Composite\n",
    "    return True  # Probablement premier"
   ]
  },
  {
   "cell_type": "code",
   "execution_count": 12,
   "id": "76c1b003-af48-4207-8797-97191305dbe2",
   "metadata": {},
   "outputs": [
    {
     "data": {
      "text/plain": [
       "True"
      ]
     },
     "execution_count": 12,
     "metadata": {},
     "output_type": "execute_result"
    }
   ],
   "source": [
    "testFermat(13,7)"
   ]
  },
  {
   "cell_type": "code",
   "execution_count": 13,
   "id": "a62a8f40-673b-4313-9b1b-dc83d60d09cc",
   "metadata": {},
   "outputs": [
    {
     "data": {
      "text/plain": [
       "False"
      ]
     },
     "execution_count": 13,
     "metadata": {},
     "output_type": "execute_result"
    }
   ],
   "source": [
    "testFermat(123456789, 7)"
   ]
  },
  {
   "cell_type": "markdown",
   "id": "7b53f4a7-b2b4-4d16-833a-d45f5bd2073c",
   "metadata": {},
   "source": [
    "#### Génération de nombres pseudos premiers selon le nombre de bits"
   ]
  },
  {
   "cell_type": "code",
   "execution_count": 14,
   "id": "bf21572c-82a8-4241-8e32-045bdbc77fd1",
   "metadata": {},
   "outputs": [
    {
     "name": "stdout",
     "output_type": "stream",
     "text": [
      "3 5 2.1600048057734966e-05\n",
      "4 13 1.6299891285598278e-05\n",
      "5 23 1.009996049106121e-05\n",
      "6 61 6.400048732757568e-06\n",
      "7 71 1.0999967344105244e-05\n",
      "8 229 1.5700003132224083e-05\n",
      "9 359 1.5300000086426735e-05\n",
      "10 661 9.400071576237679e-06\n",
      "11 1459 1.2299977242946625e-05\n",
      "12 2969 1.179997343569994e-05\n",
      "13 5297 9.09995287656784e-06\n",
      "14 8581 1.209997572004795e-05\n",
      "15 21011 2.929999027401209e-05\n",
      "16 46301 5.2299932576715946e-05\n",
      "17 85517 3.090000245720148e-05\n",
      "18 251831 2.5000073947012424e-05\n",
      "19 294313 1.98000343516469e-05\n",
      "20 873541 1.7900019884109497e-05\n",
      "21 1408787 2.3400061763823032e-05\n",
      "22 3341743 3.42000275850296e-05\n",
      "23 4892057 2.010003663599491e-05\n",
      "24 10352339 2.010003663599491e-05\n",
      "25 22822567 1.5900004655122757e-05\n",
      "26 63305719 7.400009781122208e-05\n",
      "27 133769639 2.5799963623285294e-05\n",
      "28 148038131 2.589996438473463e-05\n",
      "29 317631653 0.0001268000341951847\n",
      "30 665512223 6.790005136281252e-05\n",
      "31 2028581959 5.1900045946240425e-05\n",
      "32 3414281623 6.2700011767447e-05\n",
      "33 4953240811 0.00014130002819001675\n",
      "34 16126703597 0.00038680003490298986\n",
      "35 32968144061 6.19000056758523e-05\n",
      "36 56635454221 0.0005203000036999583\n",
      "37 80156893021 9.049999061971903e-05\n",
      "38 265319066611 0.00039579998701810837\n",
      "39 291378937901 0.00019349996000528336\n",
      "40 710786703247 0.00010450009722262621\n",
      "41 1280608179883 0.0002783999079838395\n",
      "42 3102276292007 0.00025200005620718\n",
      "43 5708106859387 7.239996921271086e-05\n",
      "44 14690644222259 0.0006060999585315585\n",
      "45 27057372532639 5.810009315609932e-05\n",
      "46 59053613903573 9.529991075396538e-05\n",
      "47 85429950334943 0.00021379999816417694\n",
      "48 240598053132289 0.000125400023534894\n",
      "49 365649593556329 0.00028959999326616526\n"
     ]
    },
    {
     "data": {
      "text/plain": [
       "[<matplotlib.lines.Line2D at 0x25b75eb3590>]"
      ]
     },
     "execution_count": 14,
     "metadata": {},
     "output_type": "execute_result"
    },
    {
     "data": {
      "image/png": "[encoded data removed]",
      "text/plain": [
       "<Figure size 640x480 with 1 Axes>"
      ]
     },
     "metadata": {},
     "output_type": "display_data"
    }
   ],
   "source": [
    "import timeit\n",
    "import random\n",
    "\n",
    "nbMax = 50\n",
    "b = [i for i in range(3, nbMax)]   # liste de nombre de bits\n",
    "\n",
    "y_temps = []\n",
    "nombrePseudoPrem = []\n",
    "for p in b : \n",
    "    borneInf = 2**(p - 1)  \n",
    "    borneSup = 2**p - 1    \n",
    "    tps1 = timeit.default_timer()  # tps1 : début\n",
    "    nb = random.randint(borneInf, borneSup) # on génère un nombre compris entre 2^(p-1) et 2^p\n",
    "                                            # c'est à dire écrit sur p bits, jusqu'à en trouver un premier\n",
    "    while not testFermat(nb, 7):\n",
    "        nb = random.randint(borneInf, borneSup)\n",
    "    tps2 = timeit.default_timer()  # tps2 : fin\n",
    "    y_temps.append(tps2 - tps1)  \n",
    "    nombrePseudoPrem.append(nb)\n",
    "    print(p,nb,tps2-tps1)\n",
    "\n",
    "import matplotlib.pyplot as plt\n",
    "plt.plot(b,y_temps)"
   ]
  },
  {
   "cell_type": "code",
   "execution_count": 15,
   "id": "da4b6918-4204-45c8-a035-5ed566f930ea",
   "metadata": {},
   "outputs": [
    {
     "name": "stdout",
     "output_type": "stream",
     "text": [
      "True\n",
      "10041484919451504214599334923983809627818671319271708650543246757673907060712474976872028056246995414804729456151505916668828420936567992403026032093576901877704536996119635633177443761469641120625396789062325529996842910779104515892828956404863516758393329626547812047660891151416027352237919772193833\n",
      "0.12202849995810539\n"
     ]
    }
   ],
   "source": [
    "p = 1000  # nombre de bits\n",
    "borneInf = 2**(p - 1)  \n",
    "borneSup = 2**p - 1    \n",
    "tps1 = timeit.default_timer()  # tps1 : début\n",
    "nb = random.randint(borneInf, borneSup)\n",
    "while not testFermat(nb, 7):\n",
    "    nb = random.randint(borneInf, borneSup)\n",
    "tps2 = timeit.default_timer()  # tps2 : finnb = random.randint(borneInf, borneSup) \n",
    "print(testFermat(nb, 7))\n",
    "print(nb)\n",
    "tps2 = timeit.default_timer()  # tps2 : fin\n",
    "print(tps2 - tps1)  "
   ]
  },
  {
   "cell_type": "markdown",
   "id": "5264791f-658f-4096-8c94-0ce2688d36e8",
   "metadata": {},
   "source": [
    "### Commentaire : cela va beaucoup plus vite !"
   ]
  },
  {
   "cell_type": "markdown",
   "id": "33c4c809-a601-4172-a850-43696c68d66b",
   "metadata": {},
   "source": [
    "### Erreur du test de primalité de Fermat\n",
    "\n",
    "Le problème principal de ce test vient de l'existence des **nombres de Carmichael** qui vérifient toujours la propriété du petit théorème de Fermat sans être premiers : si n est un nombre de Carmichael, pour tout entier $a$ premier avec $n$, $n$ divise a^{n-1}-1$  \n",
    "Ils ne sont pas très nombreux, mais pour éviter le problème, on utilise habituellement plutôt le **test de primalité de Miller-Rabin**.  \n",
    "On pourra aller sur Wikipédia pour comprendre puis implémenter la méthode Miller-Rabin.\n",
    "En attendant, les clés suivantes seront générées avec le **test de primalité de Fermat**."
   ]
  },
  {
   "cell_type": "markdown",
   "id": "8b98af95-95cd-4af4-a766-6c9819384204",
   "metadata": {},
   "source": [
    "## **3.4. Génération des clés RSA**\n",
    "On choisira comme exposant $e = 2^{16}+1= 65537$ et $n$ devra nécessiter 1024 bits pour sa représentation.$p$ et $q$ seront générés en utilisant les méthodes précédentes et vous en déduirez la **clé publique** et la **clé privée** de votre système de chiffrement.  \n",
    "Vous enverrez votre clé publique à votre enseignante pour avoir plus d'information sur le déchiffrement de $crypto4$."
   ]
  },
  {
   "cell_type": "code",
   "execution_count": 16,
   "id": "03a93814",
   "metadata": {},
   "outputs": [
    {
     "name": "stdout",
     "output_type": "stream",
     "text": [
      "Cle Publique (n,e) :  (78223713081906168212772545538770231369568544338045343750303049690363061305922221845922827752247341659567641793728583545382980627877175576988105586110626309858160359892476220827380074768734549319369717265968145501170056168976445433097364406417699171739621057162742676023333749432753200196295893265558311501690069061650359329994840761837695295285579598481764055233769287778811123142171096741812473809290530126746900799580113440908751000950955509798357047113993151463793724699478970532425387754752476865915590114057159355232821504300905926767805662542856028844202621934407983148827694000028027129265944573, 65537)\n",
      "Cle Privee (n,d) :  (78223713081906168212772545538770231369568544338045343750303049690363061305922221845922827752247341659567641793728583545382980627877175576988105586110626309858160359892476220827380074768734549319369717265968145501170056168976445433097364406417699171739621057162742676023333749432753200196295893265558311501690069061650359329994840761837695295285579598481764055233769287778811123142171096741812473809290530126746900799580113440908751000950955509798357047113993151463793724699478970532425387754752476865915590114057159355232821504300905926767805662542856028844202621934407983148827694000028027129265944573, 58682406177760910023055101719847390409766047917664820261587339030268396617264538154855971839407366109108489994791733066950794857402403790875691764058912408626828418971170383096237871370444697152552178912390311939286598586260081171219798297778753677748118914131044198951541934950658575883102485502863626875587922308654606945291298607254076315521574573985195804243214636340263015999553985696592471180000566432865139186329610979436225872981334735520908336853923305192941457497536853504971537119599877219868103443027368202228355471186395154435556501026010819272453500313758624630473967094520387704056373933)\n"
     ]
    }
   ],
   "source": [
    "def GenerationCleRSA():\n",
    "    nbBits = 1000  # nombre de bits\n",
    "    borneInf = 2**(nbBits - 1)  \n",
    "    borneSup = 2**nbBits - 1    \n",
    "    p = random.randint(borneInf, borneSup)\n",
    "    while not testFermat(p, 7):\n",
    "        p = random.randint(borneInf, borneSup)\n",
    "    q = random.randint(borneInf, borneSup)\n",
    "    while not testFermat(q, 7):\n",
    "        q = random.randint(borneInf, borneSup)\n",
    "    n = p * q\n",
    "    phi = (p - 1) * (q - 1)\n",
    "    e = 65537\n",
    "    d = pow(e, -1, phi)\n",
    "    return ((n,e),(n,d))\n",
    "\n",
    "clePublique, clePrivee = GenerationCleRSA()\n",
    "print(\"Cle Publique (n,e) : \", clePublique)\n",
    "print(\"Cle Privee (n,d) : \", clePrivee)"
   ]
  },
  {
   "cell_type": "markdown",
   "id": "d43015ea-aca3-400c-9c2f-c0e5a9d86b21",
   "metadata": {},
   "source": [
    "## **4. Quelques fonctions utiles pour la suite**\n",
    "* Fonction **puissance modulaire** : ```pow(m,e,n)``` permet de calculer $m^e[n]$\n",
    "* **Hachage** : nous utiliserons le hachage SHA-256"
   ]
  },
  {
   "cell_type": "code",
   "execution_count": 52,
   "id": "04071de2-d00f-4b91-aa3c-678472253aae",
   "metadata": {},
   "outputs": [
    {
     "data": {
      "text/plain": [
       "65788391252811336389358829526500059803637055619194774207535826198778615151684"
      ]
     },
     "execution_count": 52,
     "metadata": {},
     "output_type": "execute_result"
    }
   ],
   "source": [
    "import hashlib\n",
    "#mes = open(\"message.txt\").read()\n",
    "\n",
    "def hashMessageVersEntier(message):\n",
    "    # Empreinte du message (SHA-256)\n",
    "    hash_object = hashlib.sha256(message.encode('utf-8'))\n",
    "    hash_bytes = hash_object.digest()\n",
    "    hash_integer = int.from_bytes(hash_bytes, byteorder='big')\n",
    "    return hash_integer\n",
    "\n",
    "hashMessageVersEntier(\"Bonjour\")"
   ]
  },
  {
   "cell_type": "markdown",
   "id": "e3654d52",
   "metadata": {},
   "source": [
    "Fonction qui permet de decoder les messages en fonction de la cle publique et de la cle prive generer dans la fonction GenerationCleRSA()"
   ]
  },
  {
   "cell_type": "code",
   "execution_count": 10,
   "id": "55c5ca10",
   "metadata": {},
   "outputs": [],
   "source": [
    "clePrv = (78223713081906168212772545538770231369568544338045343750303049690363061305922221845922827752247341659567641793728583545382980627877175576988105586110626309858160359892476220827380074768734549319369717265968145501170056168976445433097364406417699171739621057162742676023333749432753200196295893265558311501690069061650359329994840761837695295285579598481764055233769287778811123142171096741812473809290530126746900799580113440908751000950955509798357047113993151463793724699478970532425387754752476865915590114057159355232821504300905926767805662542856028844202621934407983148827694000028027129265944573, 58682406177760910023055101719847390409766047917664820261587339030268396617264538154855971839407366109108489994791733066950794857402403790875691764058912408626828418971170383096237871370444697152552178912390311939286598586260081171219798297778753677748118914131044198951541934950658575883102485502863626875587922308654606945291298607254076315521574573985195804243214636340263015999553985696592471180000566432865139186329610979436225872981334735520908336853923305192941457497536853504971537119599877219868103443027368202228355471186395154435556501026010819272453500313758624630473967094520387704056373933)\n",
    "clePub = (78223713081906168212772545538770231369568544338045343750303049690363061305922221845922827752247341659567641793728583545382980627877175576988105586110626309858160359892476220827380074768734549319369717265968145501170056168976445433097364406417699171739621057162742676023333749432753200196295893265558311501690069061650359329994840761837695295285579598481764055233769287778811123142171096741812473809290530126746900799580113440908751000950955509798357047113993151463793724699478970532425387754752476865915590114057159355232821504300905926767805662542856028844202621934407983148827694000028027129265944573, 65537)\n",
    "mess1=open(\"message1.txt\", encoding=\"utf-8\").read()\n",
    "mess2=open(\"message2.txt\", encoding=\"utf-8\").read()\n",
    "emp1=open(\"empreinte1.txt\", encoding=\"utf-8\").read().strip()\n",
    "emp2=open(\"empreinte2.txt\", encoding=\"utf-8\").read().strip()"
   ]
  },
  {
   "cell_type": "code",
   "execution_count": 11,
   "id": "8988a5be",
   "metadata": {},
   "outputs": [
    {
     "ename": "TypeError",
     "evalue": "unsupported operand type(s) for ** or pow(): 'str', 'int', 'int'",
     "output_type": "error",
     "traceback": [
      "\u001b[1;31m---------------------------------------------------------------------------\u001b[0m",
      "\u001b[1;31mTypeError\u001b[0m                                 Traceback (most recent call last)",
      "Cell \u001b[1;32mIn[11], line 13\u001b[0m\n\u001b[0;32m      9\u001b[0m     signature \u001b[38;5;241m=\u001b[39m \u001b[38;5;28mpow\u001b[39m(hash_integer, d, n)\n\u001b[0;32m     11\u001b[0m     \u001b[38;5;28;01mreturn\u001b[39;00m signature\n\u001b[1;32m---> 13\u001b[0m signature1 \u001b[38;5;241m=\u001b[39m \u001b[43msignerRSA\u001b[49m\u001b[43m(\u001b[49m\u001b[43memp1\u001b[49m\u001b[43m,\u001b[49m\u001b[43m \u001b[49m\u001b[43mclePrv\u001b[49m\u001b[43m)\u001b[49m\n\u001b[0;32m     15\u001b[0m \u001b[38;5;66;03m# Écrire la signature dans le fichier\u001b[39;00m\n\u001b[0;32m     16\u001b[0m \u001b[38;5;28;01mwith\u001b[39;00m \u001b[38;5;28mopen\u001b[39m(mess1, \u001b[38;5;124m\"\u001b[39m\u001b[38;5;124mw\u001b[39m\u001b[38;5;124m\"\u001b[39m, encoding\u001b[38;5;241m=\u001b[39m\u001b[38;5;124m\"\u001b[39m\u001b[38;5;124mutf-8\u001b[39m\u001b[38;5;124m\"\u001b[39m) \u001b[38;5;28;01mas\u001b[39;00m f:\n",
      "Cell \u001b[1;32mIn[11], line 9\u001b[0m, in \u001b[0;36msignerRSA\u001b[1;34m(hash_integer, clePrivee)\u001b[0m\n\u001b[0;32m      7\u001b[0m \u001b[38;5;28;01mdef\u001b[39;00m \u001b[38;5;21msignerRSA\u001b[39m(hash_integer, clePrivee):\n\u001b[0;32m      8\u001b[0m     n, d \u001b[38;5;241m=\u001b[39m clePrivee\n\u001b[1;32m----> 9\u001b[0m     signature \u001b[38;5;241m=\u001b[39m \u001b[38;5;28;43mpow\u001b[39;49m\u001b[43m(\u001b[49m\u001b[43mhash_integer\u001b[49m\u001b[43m,\u001b[49m\u001b[43m \u001b[49m\u001b[43md\u001b[49m\u001b[43m,\u001b[49m\u001b[43m \u001b[49m\u001b[43mn\u001b[49m\u001b[43m)\u001b[49m\n\u001b[0;32m     11\u001b[0m     \u001b[38;5;28;01mreturn\u001b[39;00m signature\n",
      "\u001b[1;31mTypeError\u001b[0m: unsupported operand type(s) for ** or pow(): 'str', 'int', 'int'"
     ]
    }
   ],
   "source": [
    "import hashlib\n",
    "\n",
    "def hashMessageVersEntier(message):\n",
    "    hash_object = hashlib.sha256(message.encode('utf-8'))\n",
    "    return int(hash_object.hexdigest(), 16)\n",
    "\n",
    "def signerRSA(hash_integer, clePrivee):\n",
    "    n, d = clePrivee\n",
    "    signature = pow(hash_integer, d, n)\n",
    "    \n",
    "    return signature\n",
    "\n",
    "signature1 = signerRSA(emp1, clePrv)\n",
    "\n",
    "# Écrire la signature dans le fichier\n",
    "with open(mess1, \"w\", encoding=\"utf-8\") as f:\n",
    "    f.write(str(signature1))\n",
    "\n",
    "print(f\"Signature de l'empreinte 1 : {signature1}\")\n"
   ]
  },
  {
   "cell_type": "code",
   "execution_count": null,
   "id": "8e190783",
   "metadata": {},
   "outputs": [],
   "source": []
  }
 ],
 "metadata": {
  "kernelspec": {
   "display_name": "Python 3",
   "language": "python",
   "name": "python3"
  },
  "language_info": {
   "codemirror_mode": {
    "name": "ipython",
    "version": 3
   },
   "file_extension": ".py",
   "mimetype": "text/x-python",
   "name": "python",
   "nbconvert_exporter": "python",
   "pygments_lexer": "ipython3",
   "version": "3.12.6"
  }
 },
 "nbformat": 4,
 "nbformat_minor": 5
}
