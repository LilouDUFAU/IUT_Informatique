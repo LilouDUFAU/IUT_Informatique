{
 "cells": [
  {
   "cell_type": "markdown",
   "metadata": {},
   "source": [
    "Auteurs : DUFAU Lilou et MARTIN Edgar | TD2-TP4 | Étudiants en informatique\n",
    "\n",
    "Date de dernières modifications : 25/11/2024\n"
   ]
  },
  {
   "cell_type": "markdown",
   "metadata": {},
   "source": [
    "# Partie programmation des cours de Cryptographie et sécurité."
   ]
  },
  {
   "cell_type": "markdown",
   "metadata": {},
   "source": [
    "## Partie Crypto1:\n",
    "### Créer deux fonctions:\n",
    "- **code(lettre)** : renvoie le code à partir de la lettre\n",
    "- **lettre(code)** : renvoie la lettre à partir du code "
   ]
  },
  {
   "cell_type": "code",
   "execution_count": 16,
   "metadata": {},
   "outputs": [],
   "source": [
    "alpha=\"abcdefghijklmnopqrstuvwxyz\""
   ]
  },
  {
   "cell_type": "code",
   "execution_count": 17,
   "metadata": {},
   "outputs": [
    {
     "name": "stdout",
     "output_type": "stream",
     "text": [
      "0\n"
     ]
    }
   ],
   "source": [
    "def code(lettre) :\n",
    "    return alpha.index(lettre)  \n",
    "print(code('a')) "
   ]
  },
  {
   "cell_type": "code",
   "execution_count": 18,
   "metadata": {},
   "outputs": [
    {
     "name": "stdout",
     "output_type": "stream",
     "text": [
      "z\n"
     ]
    }
   ],
   "source": [
    "def lettre(code):\n",
    "    return alpha[code]          \n",
    "print(lettre(25))  "
   ]
  },
  {
   "cell_type": "markdown",
   "metadata": {},
   "source": [
    "### Créer deux fonctions:\n",
    "- **chiffrementCesar(message,cle)** : prend en entrée le message et la clé et renvoyant le cryptogramme \n",
    "- **dechiffrementCesar(message,cle)** : prend en entrée le cryptogramme et la clé, et renvoyant le message"
   ]
  },
  {
   "cell_type": "code",
   "execution_count": 19,
   "metadata": {},
   "outputs": [
    {
     "name": "stdout",
     "output_type": "stream",
     "text": [
      "p'gosk rky sgzny\n"
     ]
    }
   ],
   "source": [
    "def chiffrementCesar(message,cle):\n",
    "    crypto =\"\"\n",
    "    for char in message:\n",
    "        if char in alpha : \n",
    "            nouvCode = (code(char) + cle) %26\n",
    "            crypto += lettre(nouvCode)\n",
    "        else:\n",
    "            crypto += char\n",
    "    return crypto\n",
    "message= \"j'aime les maths\"\n",
    "cle = 6\n",
    "crypto = chiffrementCesar(message,cle)\n",
    "print(crypto)"
   ]
  },
  {
   "cell_type": "code",
   "execution_count": 20,
   "metadata": {},
   "outputs": [
    {
     "name": "stdout",
     "output_type": "stream",
     "text": [
      "j'aime les maths \n"
     ]
    }
   ],
   "source": [
    "def dechiffrementCesar(crypto,cle):\n",
    "    message =\"\"\n",
    "    for char in crypto :\n",
    "        if char in alpha : \n",
    "            nouvCode = (code(char) - cle) %26\n",
    "            message += lettre(nouvCode)\n",
    "        else:\n",
    "            message += char\n",
    "    return message\n",
    "crypto = \"p'gosk rky sgzny \"\n",
    "key = 6\n",
    "crypto = dechiffrementCesar(crypto,cle)\n",
    "print (crypto)"
   ]
  },
  {
   "cell_type": "markdown",
   "metadata": {},
   "source": [
    "### Créer une fonction:\n",
    "- **Crypto1()** : obtenu par un chiffrement de César avec une clé inconnue"
   ]
  },
  {
   "cell_type": "code",
   "execution_count": 21,
   "metadata": {},
   "outputs": [
    {
     "name": "stdout",
     "output_type": "stream",
     "text": [
      "je veux faire des maths toute ma vie avec mme bruyere\n"
     ]
    }
   ],
   "source": [
    "from collections import Counter\n",
    "\n",
    "def crypto1(crypto):\n",
    "    for key in range(26):\n",
    "        message = dechiffrementCesar(crypto, key)\n",
    "        letter_counts = Counter(c for c in message.lower() if c.isalpha()) \n",
    "        if letter_counts.most_common(1)[0][0] == 'e':  # Vérifie si la lettre la plus fréquente est 'e'\n",
    "            return message\n",
    "\n",
    "crypto = \"pk bkad lgoxk jky sgzny zuazk sg bok gbki ssk hxaekxk\"\n",
    "result = crypto1(crypto)\n",
    "print(result)\n"
   ]
  },
  {
   "cell_type": "markdown",
   "metadata": {},
   "source": [
    "## Partie Crypto2:\n",
    "### Créer une fonction:\n",
    "- **pgcdEuclideEtendue(n,m)** : prend en paramètres deux entiers n et m, et renvoit le tuple **(pgcd,u,v)** dans lequel :\n",
    "    - **pgcd = pgcd(n,m)**\n",
    "    - u et v sont les coefficients de Bezout dans l’égalité : **pgcd = u × n + v × m**"
   ]
  },
  {
   "cell_type": "code",
   "execution_count": 22,
   "metadata": {},
   "outputs": [
    {
     "name": "stdout",
     "output_type": "stream",
     "text": [
      "(1, -4, 15)\n"
     ]
    }
   ],
   "source": [
    "def pgcdEuclideEtendue(n,m):\n",
    "    u,v,u1,v1=1,0,0,1\n",
    "    while m!=0:\n",
    "        q=n//m\n",
    "        n,m=m,n%m\n",
    "        u,u1=u1,u-q*u1\n",
    "        v,v1=v1,v-q*v1\n",
    "    return n,u,v\n",
    "print(pgcdEuclideEtendue(56,15))"
   ]
  },
  {
   "cell_type": "markdown",
   "metadata": {},
   "source": [
    "### Créer une fonction:\n",
    "- **inverseMod(nb,mod)** : prend en entrée deux entiers nb et mod et renvoyant l’inverse modulaire de nb quand celui-ci existe (et utilise **pgcdEuclideEtendue**)"
   ]
  },
  {
   "cell_type": "code",
   "execution_count": 23,
   "metadata": {},
   "outputs": [
    {
     "name": "stdout",
     "output_type": "stream",
     "text": [
      "7\n"
     ]
    }
   ],
   "source": [
    "def inverseMod(nb,mod):\n",
    "    r,u,v = pgcdEuclideEtendue(nb,mod)\n",
    "    if r != 1:\n",
    "        return None\n",
    "    else:\n",
    "        return u % mod\n",
    "print(inverseMod(3,10))"
   ]
  },
  {
   "cell_type": "markdown",
   "metadata": {},
   "source": [
    "### Créer deux fonctions:\n",
    "- **chiffreAffine(message,a,b)** : prend t en entrée le message et la clé (a,b) et renvoyant le cryptogramme\n",
    "- **dechiffreAffine(crypto,a,b)** : prend en entrée le cryptogramme et la clé (a,b) et renvoyant le message\n"
   ]
  },
  {
   "cell_type": "code",
   "execution_count": 24,
   "metadata": {},
   "outputs": [
    {
     "name": "stdout",
     "output_type": "stream",
     "text": [
      "h'geqs nsi qglbi \n"
     ]
    }
   ],
   "source": [
    "def chiffreAffine(message,a,b):\n",
    "    crypto =\"\"\n",
    "    for char in message :\n",
    "        if char in alpha : \n",
    "            nouvCode = (a*code(char) + b) %26\n",
    "            crypto += lettre(nouvCode)\n",
    "        else:\n",
    "            crypto += char\n",
    "    return crypto\n",
    "message = \"j'aime les maths \"\n",
    "a = 3\n",
    "b = 6\n",
    "crypto = chiffreAffine(message,a,b)\n",
    "print(crypto)"
   ]
  },
  {
   "cell_type": "code",
   "execution_count": 25,
   "metadata": {},
   "outputs": [
    {
     "name": "stdout",
     "output_type": "stream",
     "text": [
      "j'aime les maths \n"
     ]
    }
   ],
   "source": [
    "def dechiffreAffine(crypto,a,b):\n",
    "    message =\"\"\n",
    "    for char in crypto :\n",
    "        if char in alpha : \n",
    "            nouvCode = (inverseMod(a,26)*(code(char) - b)) %26\n",
    "            message += lettre(nouvCode)\n",
    "        else:\n",
    "            message += char\n",
    "    return message\n",
    "\n",
    "crypto = \"h'geqs nsi qglbi \"\n",
    "a = 3\n",
    "b = 6\n",
    "crypto = dechiffreAffine(crypto,a,b)\n",
    "print (crypto)"
   ]
  },
  {
   "cell_type": "markdown",
   "metadata": {},
   "source": [
    "### Créer une fonction:\n",
    "- **crypto2(crypto)** : obtenu par un chiffrement affine."
   ]
  },
  {
   "cell_type": "code",
   "execution_count": 55,
   "metadata": {},
   "outputs": [
    {
     "name": "stdout",
     "output_type": "stream",
     "text": [
      "zerevfqbuwwiceigeolsoatirxevpionevpxeqduoqfiwuorxeqnarauvviarieqigeolsoafovvgaozerevfqbuwwiceigeolsoatirxevpionevpxeqduoqfiwuorxeqnaqauvviareqigeolsoafuvveriaevpnaeiovrenewacoexfegernivpeq\n",
      "\n",
      "terefbuniccskesyeajoaqlsrzefxsadefxzeuhiaubsciarzeudqrqiffsqrseusyeajoaqbaffyqaterefbuniccskesyeajoaqlsrzefxsadefxzeuhiaubsciarzeudquqiffsqreusyeajoaqbiffersqefxdqesafredecqkaezbeyerdsfxeu\n",
      "\n",
      "jerendshommageaceuxquiparlentauventlesfousdamourlesvirionnairaesaceuxquidunnciujerendshommageaceuxquiparlentauventlesfousdamourlesvisionnairesaceuxquidonneraientvieaunrevemigueldecervantes\n",
      "\n"
     ]
    }
   ],
   "source": [
    "from collections import Counter\n",
    "\n",
    "def crypto2(crypto):\n",
    "    results = []\n",
    "    for a in range(1, 26):\n",
    "        try:\n",
    "            # Vérification d'inverseMod\n",
    "            inv_mod = inverseMod(a, 26)\n",
    "            if inv_mod is None:\n",
    "                continue\n",
    "        except ValueError:\n",
    "            continue\n",
    "\n",
    "        for b in range(26):\n",
    "            message = dechiffreAffine(crypto, a, b)\n",
    "            if message is None:\n",
    "                continue\n",
    "\n",
    "            # Vérification de la présence d'une valeur valide dans letter_counts\n",
    "            letter_counts = Counter(c for c in message.lower() if c.isalpha())\n",
    "            if not letter_counts:\n",
    "                continue\n",
    "\n",
    "            # Vérification de la lettre la plus fréquente\n",
    "            if letter_counts.most_common(1)[0][0] == 'e':\n",
    "                if letter_counts.most_common(2)[1][0] == 'a':\n",
    "                    results.append(message)\n",
    "                elif letter_counts.most_common(2)[1][0] == 'i':\n",
    "                    results.append(message)\n",
    "                elif letter_counts.most_common(2)[1][0] == 's':\n",
    "                    results.append(message)\n",
    "                elif letter_counts.most_common(2)[1][0] == 't':\n",
    "                    results.append(message)\n",
    "                elif letter_counts.most_common(2)[1][0] == 'n':\n",
    "                    results.append(message)\n",
    "            else:\n",
    "                continue\n",
    "\n",
    "    return results\n",
    "\n",
    "crypto = \"vanarbmxqsseyaecakhokwpentarlekjarltamzqkmbesqkntamjwnwqrrewneamecakhokwbkrrcwkvanarbmxqsseyaecakhokwpentarlekjarltamzqkmbesqkntamjwmwqrrewnamecakhokwbqrranewarljwaekrnajaswykatbacanjerlam\"\n",
    "results = crypto2(crypto)\n",
    "for result in results:\n",
    "    print(result)\n",
    "    print()\n",
    "\n"
   ]
  },
  {
   "cell_type": "markdown",
   "metadata": {},
   "source": [
    "## Partie Crypto3:\n",
    "### Créer deux fonctions:\n",
    "- **chiffreVigenere(message,cle)** : prend en entrée le message et la clé et renvoyant le cryptogramme\n",
    "- **dechiffreVigenere(crypto,cle)** : prend  en entrée le cryptogramme et la clé, et renvoyant le message"
   ]
  },
  {
   "cell_type": "code",
   "execution_count": 7,
   "metadata": {},
   "outputs": [
    {
     "name": "stdout",
     "output_type": "stream",
     "text": [
      "l'ekxi wiu qcelu\n"
     ]
    }
   ],
   "source": [
    "def chiffreVigenere(message, cle):\n",
    "    cryptogramme = ''\n",
    "    cle_repeatee = (cle * (len(message) // len(cle) + 1))[:len(message)]  # Étendre la clé à la longueur du message\n",
    "\n",
    "    for i in range(len(message)):\n",
    "        lettre_message = message[i]\n",
    "        lettre_cle = cle_repeatee[i]\n",
    "\n",
    "        if lettre_message in alpha:  # On chiffre uniquement les lettres\n",
    "            # Trouver les indices dans l'alphabet\n",
    "            index_message = alpha.index(lettre_message)\n",
    "            index_cle = alpha.index(lettre_cle)\n",
    "\n",
    "            # Appliquer la substitution (décalage)\n",
    "            index_chiffre = (index_message + index_cle) % len(alpha)\n",
    "\n",
    "            # Ajouter la lettre chiffrée au cryptogramme\n",
    "            cryptogramme += alpha[index_chiffre]\n",
    "        else:\n",
    "            # Si ce n'est pas une lettre, on laisse le caractère tel quel\n",
    "            cryptogramme += lettre_message\n",
    "    return cryptogramme\n",
    "\n",
    "message = \"j'aime les maths\"\n",
    "cle = \"cle\"\n",
    "crypto = chiffreVigenere(message, cle)\n",
    "print(crypto)"
   ]
  },
  {
   "cell_type": "code",
   "execution_count": 49,
   "metadata": {},
   "outputs": [
    {
     "name": "stdout",
     "output_type": "stream",
     "text": [
      "j'aime les maths\n"
     ]
    }
   ],
   "source": [
    "def dechiffreVigenere(crypto, cle):\n",
    "    message = ''\n",
    "    cle_repeatee = (cle * (len(crypto) // len(cle) + 1))[:len(crypto)]  # Étendre la clé à la longueur du cryptogramme\n",
    "\n",
    "    for i in range(len(crypto)):\n",
    "        lettre_crypto = crypto[i]\n",
    "        lettre_cle = cle_repeatee[i]\n",
    "\n",
    "        if lettre_crypto in alpha:  # On déchiffre uniquement les lettres\n",
    "            # Trouver les indices dans l'alphabet\n",
    "            index_crypto = alpha.index(lettre_crypto)\n",
    "            index_cle = alpha.index(lettre_cle)\n",
    "\n",
    "            # Appliquer l'opération inverse du chiffrement (décalage)\n",
    "            index_message = (index_crypto - index_cle) % len(alpha)\n",
    "\n",
    "            # Ajouter la lettre déchiffrée au message\n",
    "            message += alpha[index_message]\n",
    "        else:\n",
    "            # Si ce n'est pas une lettre, on laisse le caractère tel quel\n",
    "            message += lettre_crypto\n",
    "\n",
    "    return message\n",
    "\n",
    "crypto = \"l'ekxi wiu qcelu\"\n",
    "cle = \"cle\"\n",
    "message = dechiffreVigenere(crypto, cle)\n",
    "print(message)"
   ]
  },
  {
   "cell_type": "markdown",
   "metadata": {},
   "source": [
    "### Créer une fonction:\n",
    "- **scindermod(texte,longueur)** : prend en entrée, texte, une chaine de caractère et un entier longueur et renvoie une liste de chaînes extraites de texte correspondant à la suite des caractères de texte d’indices congrus à 0,1…,l-1 modulo longueur. Le nombre de chaînes attendues dans la liste est donc longueur"
   ]
  },
  {
   "cell_type": "code",
   "execution_count": 45,
   "metadata": {},
   "outputs": [
    {
     "name": "stdout",
     "output_type": "stream",
     "text": [
      "['jmeas', 'aest', 'ilmh']\n"
     ]
    }
   ],
   "source": [
    "def scindermod(texte, longueur):\n",
    "    # Initialiser une liste avec une chaîne vide pour chaque groupe modulo\n",
    "    groupes = ['' for i in range(longueur)]\n",
    "\n",
    "    # Parcourir le texte et répartir les caractères dans les bons groupes\n",
    "    for i, char in enumerate(texte):\n",
    "        groupes[i % longueur] += char\n",
    "\n",
    "    return groupes\n",
    "\n",
    "texte=\"jaimelesmaths\"\n",
    "longueur = 3\n",
    "groupes = scindermod(texte, longueur)\n",
    "print(groupes)"
   ]
  },
  {
   "cell_type": "markdown",
   "metadata": {},
   "source": [
    "### Créer deux fonctions:\n",
    "- **coincidence(text)** : prend en entrée une chaîne de caractère, texte, et renvoie un nombre réel correspondant à son indice de coïncidence\n",
    "- **coincidenceMoy(texte,longueur):** prend en entrée, texte, et une longueur (de clé) longcle et renvoie un nombre réel correspondant à la moyenne des coïncidences des longcle chaînes correspondant aux suites de lettres de rangs congrus à 0 modulo longcle, 1 modulo longcle"
   ]
  },
  {
   "cell_type": "code",
   "execution_count": 46,
   "metadata": {},
   "outputs": [
    {
     "name": "stdout",
     "output_type": "stream",
     "text": [
      "0.05128205128205128\n"
     ]
    }
   ],
   "source": [
    "def coincidence(text):\n",
    "    n = len(text)  # Nombre total de lettres après filtrage\n",
    "    if n <= 1:\n",
    "        return 0  # Éviter la division par zéro si le texte est trop court\n",
    "\n",
    "    # Calcul des fréquences de chaque lettre\n",
    "    freq = {letter: text.count(letter) for letter in alpha}\n",
    "    \n",
    "    # Calcul de la somme des f_i * (f_i - 1)\n",
    "    somme_fi = sum(f * (f - 1) for f in freq.values())\n",
    "    \n",
    "    # Calcul de l'indice de coïncidence\n",
    "    IC = somme_fi / (n * (n - 1))\n",
    "    return IC\n",
    "\n",
    "text = \"jaimelesmaths\"\n",
    "IC = coincidence(text)\n",
    "print(IC)"
   ]
  },
  {
   "cell_type": "code",
   "execution_count": 47,
   "metadata": {},
   "outputs": [
    {
     "name": "stdout",
     "output_type": "stream",
     "text": [
      "0.0\n"
     ]
    }
   ],
   "source": [
    "def coincidenceMoy(texte, longueur):\n",
    "    # Scinder le texte en sous-chaînes\n",
    "    sous_chaines = scindermod(texte, longueur)\n",
    "    \n",
    "    # Calculer l'indice de coïncidence pour chaque sous-chaîne\n",
    "    indices = [coincidence(sous_chaine) for sous_chaine in sous_chaines]\n",
    "    \n",
    "    # Calculer la moyenne des indices\n",
    "    if len(indices) == 0:\n",
    "        return 0  # Cas particulier pour éviter une division par zéro\n",
    "    moyenne_ic = sum(indices) / len(indices)\n",
    "    \n",
    "    return moyenne_ic\n",
    "\n",
    "texte = \"jaimelesmaths\"\n",
    "longueur = 3\n",
    "IC = coincidenceMoy(texte, longueur)\n",
    "print(IC)"
   ]
  },
  {
   "cell_type": "markdown",
   "metadata": {},
   "source": [
    "### Créer une fonction:\n",
    "- **Crypto3(crypto)**  pas réussi"
   ]
  },
  {
   "cell_type": "code",
   "execution_count": 50,
   "metadata": {},
   "outputs": [
    {
     "name": "stdout",
     "output_type": "stream",
     "text": [
      "jsdtbbpvlfttliyicscslzwetsytysnoubfexifnjswiioeapfppvicvbrfnlpplssqoyhfnlrziaogopfpncwpdlgpmhfteysespdpuxiplvbdajvpdlgznzsytpapnaoneasrayrwoygbupzlrywgekoysbbpnvigeszprlgtdlbnejsetlwoelsdtzwmilbqiespdhbdllgarphoezsdvvwdiugbupzdllqznzwoeysytzicllqsatdnotaplhdcowfteaswenweitsoesiyeviwabhcekswebfdfpzwezglvlngobgxouqseyoxikweuuxzuyacsisynlhlsvbxaywbulbptoscfpswdwocklgeeuttnscfetfmeubptysaourttxitlswrnvfliassbpsyclgecocdemottlxpllhteugoetfdlvbrqbwdoyhoijwxrisynlhrayrlllgtllbneccfsuogegrznjdlslbgilrpshjziyefizmtnzhllssdejftazoqetapitdltpsytlsgobgmrbzpzksxessoiysptqsyecctshinuuwycvbgeuwpnaowawdceurcetfdblbyeabpnksxaurliadlskogauhlglssbpsymvblmponexipdphxrzzznnzpnvigehiwojoeapfpdlbptoscfpswdzscaphfnqsfnlvzmtserlgcijvpdbbzrkrplhbrllhprystllgevlbflbboikscnpsceuqsapgpdldzsasaobfgizweeyzlpycarpseelhwaafzucsptlzwetsythgznncftxitlzsdtpaxekwltlapnasytlbouhjpctfxoyftspzoophdypbdthzweyogauhwazotnaatcosweadwuzwpuygootsdtpefezocrpjpnarpssoqiurplhgpmhwyewfzcootnloqiurpmlherlzlmhwdousyeaoeoyupupzptwfpjbup\n"
     ]
    }
   ],
   "source": [
    "def trouver_longueur_cle(crypto):\n",
    "    \"\"\" Trouver la longueur de la clé en estimant l'indice de coïncidence \"\"\"\n",
    "    for longueur in range(1, len(crypto) // 2):\n",
    "        sous_chaines = scindermod(crypto, longueur)\n",
    "        moyenne_ic = sum(coincidence(sous_chaine) for sous_chaine in sous_chaines) / longueur\n",
    "        if moyenne_ic > 0.06:  # Seuil indicatif pour une langue naturelle\n",
    "            return longueur\n",
    "    return 1  # Si on ne trouve rien, on suppose une clé de longueur 1\n",
    "\n",
    "def trouver_cle(crypto, longueur_cle):\n",
    "    \"\"\" Trouver la clé en analysant chaque sous-chaîne \"\"\"\n",
    "    alpha = 'abcdefghijklmnopqrstuvwxyz'\n",
    "    cle = []\n",
    "    \n",
    "    # Analyser chaque sous-chaîne\n",
    "    sous_chaines = scindermod(crypto, longueur_cle)\n",
    "    for i, sous_chaine in enumerate(sous_chaines):\n",
    "        # Trouver le décalage optimal pour chaque sous-chaîne\n",
    "        max_ic = -1\n",
    "        cle_char = ''\n",
    "        for shift in range(26):\n",
    "            # Décaler le texte comme un chiffrement de César\n",
    "            decrypted = ''.join(alpha[(alpha.index(c) - shift) % 26] for c in sous_chaine)\n",
    "            ic = coincidence(decrypted)\n",
    "            if ic > max_ic:\n",
    "                max_ic = ic\n",
    "                cle_char = alpha[shift]\n",
    "        cle.append(cle_char)\n",
    "    \n",
    "    return ''.join(cle)\n",
    "\n",
    "def crypto3(crypto):\n",
    "    \"\"\" Déchiffrer un cryptogramme sans connaître la clé, en utilisant Vigenère \"\"\"\n",
    "    # Trouver la longueur de la clé\n",
    "    longueur_cle = trouver_longueur_cle(crypto)\n",
    "    \n",
    "    # Trouver la clé\n",
    "    cle = trouver_cle(crypto, longueur_cle)\n",
    "    \n",
    "    # Déchiffrer avec la clé trouvée\n",
    "    message = dechiffreVigenere(crypto, cle)\n",
    "    \n",
    "    return message\n",
    "\n",
    "crypto = \"jsdtbbpvlfttliyicscslzwetsytysnoubfexifnjswiioeapfppvicvbrfnlpplssqoyhfnlrziaogopfpncwpdlgpmhfteysespdpuxiplvbdajvpdlgznzsytpapnaoneasrayrwoygbupzlrywgekoysbbpnvigeszprlgtdlbnejsetlwoelsdtzwmilbqiespdhbdllgarphoezsdvvwdiugbupzdllqznzwoeysytzicllqsatdnotaplhdcowfteaswenweitsoesiyeviwabhcekswebfdfpzwezglvlngobgxouqseyoxikweuuxzuyacsisynlhlsvbxaywbulbptoscfpswdwocklgeeuttnscfetfmeubptysaourttxitlswrnvfliassbpsyclgecocdemottlxpllhteugoetfdlvbrqbwdoyhoijwxrisynlhrayrlllgtllbneccfsuogegrznjdlslbgilrpshjziyefizmtnzhllssdejftazoqetapitdltpsytlsgobgmrbzpzksxessoiysptqsyecctshinuuwycvbgeuwpnaowawdceurcetfdblbyeabpnksxaurliadlskogauhlglssbpsymvblmponexipdphxrzzznnzpnvigehiwojoeapfpdlbptoscfpswdzscaphfnqsfnlvzmtserlgcijvpdbbzrkrplhbrllhprystllgevlbflbboikscnpsceuqsapgpdldzsasaobfgizweeyzlpycarpseelhwaafzucsptlzwetsythgznncftxitlzsdtpaxekwltlapnasytlbouhjpctfxoyftspzoophdypbdthzweyogauhwazotnaatcosweadwuzwpuygootsdtpefezocrpjpnarpssoqiurplhgpmhwyewfzcootnloqiurpmlherlzlmhwdousyeaoeoyupupzptwfpjbup\"\n",
    "message = crypto3(crypto)\n",
    "print(message)\n",
    "\n"
   ]
  },
  {
   "cell_type": "markdown",
   "metadata": {},
   "source": [
    "# RSA \n",
    "### 1.Primalité: \n",
    "- fonction premier(nµ)"
   ]
  },
  {
   "cell_type": "code",
   "execution_count": null,
   "metadata": {},
   "outputs": [],
   "source": []
  }
 ],
 "metadata": {
  "kernelspec": {
   "display_name": "Python 3",
   "language": "python",
   "name": "python3"
  },
  "language_info": {
   "codemirror_mode": {
    "name": "ipython",
    "version": 3
   },
   "file_extension": ".py",
   "mimetype": "text/x-python",
   "name": "python",
   "nbconvert_exporter": "python",
   "pygments_lexer": "ipython3",
   "version": "3.12.6"
  }
 },
 "nbformat": 4,
 "nbformat_minor": 2
}
